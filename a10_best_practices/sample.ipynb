{
 "cells": [
  {
   "cell_type": "code",
   "id": "initial_id",
   "metadata": {
    "collapsed": true,
    "ExecuteTime": {
     "end_time": "2025-06-05T21:47:11.467651Z",
     "start_time": "2025-06-05T21:47:09.772759Z"
    }
   },
   "source": [
    "from pydantic import BaseModel\n",
    "from openai import OpenAI\n",
    "\n",
    "class UserInfo(BaseModel):\n",
    "    name: str\n",
    "    age: int\n",
    "    city: str\n",
    "\n",
    "# 🔑 ルートを object にし、その中に配列フィールドを置く\n",
    "class People(BaseModel):\n",
    "    users: list[UserInfo]\n",
    "\n",
    "client = OpenAI()\n",
    "\n",
    "# プロンプト側で「users 配列で返して」と明示\n",
    "messages = [\n",
    "    {\n",
    "        \"role\": \"developer\",\n",
    "        \"content\": (\n",
    "            \"あなたは情報抽出アシスタントです。\"\n",
    "            \"出力は必ず次の JSON 形式のみで返してください：\"\n",
    "            '{\"users\":[{name:str, age:int, city:str}, …]}'\n",
    "        ),\n",
    "    },\n",
    "    {\n",
    "        \"role\": \"user\",\n",
    "        \"content\": (\n",
    "            \"私の名前は田中太郎、30歳、東京在住です。\"\n",
    "            \"私の名前は鈴木健太、28歳、大阪在住です。\"\n",
    "        ),\n",
    "    },\n",
    "]\n",
    "\n",
    "response = client.responses.parse(\n",
    "    model=\"gpt-4.1\",\n",
    "    input=messages,\n",
    "    text_format=People      # ← ここは People (object) に変更\n",
    ")\n",
    "\n",
    "people: People = response.output_parsed\n",
    "for p in people.users:\n",
    "    print(f\"{p.name} / {p.age} / {p.city}\")\n"
   ],
   "outputs": [
    {
     "name": "stdout",
     "output_type": "stream",
     "text": [
      "田中太郎 / 30 / 東京\n",
      "鈴木健太 / 28 / 大阪\n"
     ]
    }
   ],
   "execution_count": 10
  }
 ],
 "metadata": {
  "kernelspec": {
   "display_name": "Python 3",
   "language": "python",
   "name": "python3"
  },
  "language_info": {
   "codemirror_mode": {
    "name": "ipython",
    "version": 2
   },
   "file_extension": ".py",
   "mimetype": "text/x-python",
   "name": "python",
   "nbconvert_exporter": "python",
   "pygments_lexer": "ipython2",
   "version": "2.7.6"
  }
 },
 "nbformat": 4,
 "nbformat_minor": 5
}
